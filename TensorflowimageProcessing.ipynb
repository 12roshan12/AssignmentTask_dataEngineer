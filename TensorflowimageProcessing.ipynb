{
 "cells": [
  {
   "cell_type": "code",
   "execution_count": 1,
   "metadata": {},
   "outputs": [
    {
     "data": {
      "text/plain": [
       "array([[[114, 115, 111],\n",
       "        [114, 115, 111],\n",
       "        [101, 101, 101],\n",
       "        ...,\n",
       "        [ 88,  86,  75],\n",
       "        [ 94,  89,  80],\n",
       "        [ 95,  90,  81]],\n",
       "\n",
       "       [[114, 115, 111],\n",
       "        [114, 115, 111],\n",
       "        [101, 102, 100],\n",
       "        ...,\n",
       "        [ 88,  86,  75],\n",
       "        [ 93,  88,  79],\n",
       "        [ 94,  89,  80]],\n",
       "\n",
       "       [[111, 113, 107],\n",
       "        [111, 112, 108],\n",
       "        [ 99, 100,  98],\n",
       "        ...,\n",
       "        [ 91,  88,  74],\n",
       "        [ 92,  88,  77],\n",
       "        [ 92,  88,  77]],\n",
       "\n",
       "       ...,\n",
       "\n",
       "       [[ 82,  68,  46],\n",
       "        [ 82,  68,  46],\n",
       "        [ 81,  66,  47],\n",
       "        ...,\n",
       "        [ 83,  82,  56],\n",
       "        [ 83,  81,  57],\n",
       "        [ 84,  82,  58]],\n",
       "\n",
       "       [[ 81,  67,  45],\n",
       "        [ 81,  67,  45],\n",
       "        [ 80,  65,  46],\n",
       "        ...,\n",
       "        [ 83,  82,  56],\n",
       "        [ 82,  82,  58],\n",
       "        [ 84,  83,  62]],\n",
       "\n",
       "       [[ 80,  66,  44],\n",
       "        [ 80,  66,  44],\n",
       "        [ 79,  64,  45],\n",
       "        ...,\n",
       "        [ 82,  81,  55],\n",
       "        [ 83,  83,  59],\n",
       "        [ 87,  86,  65]]], dtype=uint8)"
      ]
     },
     "execution_count": 1,
     "metadata": {},
     "output_type": "execute_result"
    },
    {
     "data": {
      "image/png": "[encoded data removed]",
      "text/plain": [
       "<Figure size 432x288 with 1 Axes>"
      ]
     },
     "metadata": {
      "needs_background": "light"
     },
     "output_type": "display_data"
    }
   ],
   "source": [
    "from keras.preprocessing import image\n",
    "import tensorflow as tf\n",
    "import matplotlib.pyplot as plt\n",
    "import cv2\n",
    "import os\n",
    "import numpy as np\n",
    "\n",
    "\n",
    "img = image.load_img(\"testImages/River_1.jpg\")\n",
    "plt.imshow(img)\n",
    "\n",
    "\n",
    "cv2.imread(\"testImages/River_1.jpg\")\n"
   ]
  },
  {
   "cell_type": "code",
   "execution_count": 2,
   "metadata": {},
   "outputs": [
    {
     "name": "stdout",
     "output_type": "stream",
     "text": [
      "Found 0 images belonging to 0 classes.\n",
      "Found 9000 images belonging to 3 classes.\n"
     ]
    },
    {
     "data": {
      "text/plain": [
       "{'AnnualCrop': 0, 'Forest': 1, 'SeaLake': 2}"
      ]
     },
     "execution_count": 2,
     "metadata": {},
     "output_type": "execute_result"
    }
   ],
   "source": [
    "\n",
    "train = tf.keras.preprocessing.image.ImageDataGenerator(rescale=1/255)\n",
    "validation = tf.keras.preprocessing.image.ImageDataGenerator(rescale=1/255)\n",
    "\n",
    "validation_generator = validation.flow_from_directory('validation', target_size=(\n",
    "    200, 200))\n",
    "\n",
    "train_dataset = train.flow_from_directory('trainImages', target_size=(\n",
    "    200, 200), color_mode=\"rgb\", batch_size=100, class_mode='categorical')\n",
    "\n",
    "train_dataset.class_indices\n"
   ]
  },
  {
   "cell_type": "code",
   "execution_count": 3,
   "metadata": {},
   "outputs": [
    {
     "data": {
      "text/plain": [
       "array([0, 0, 0, ..., 2, 2, 2])"
      ]
     },
     "execution_count": 3,
     "metadata": {},
     "output_type": "execute_result"
    }
   ],
   "source": [
    "\n",
    "\n",
    "\n",
    "train_dataset.classes\n"
   ]
  },
  {
   "cell_type": "code",
   "execution_count": 4,
   "metadata": {},
   "outputs": [],
   "source": [
    "model = tf.keras.models.Sequential([tf.keras.layers.Conv2D(16,(3,3),activation='relu',input_shape=(200,200,3)),\n",
    "                                    tf.keras.layers.MaxPool2D(2,2),\n",
    "                                    #\n",
    "                                    tf.keras.layers.Conv2D(32,(3,3),activation='relu'),\n",
    "                                    tf.keras.layers.MaxPool2D(2,2),\n",
    "                                    #\n",
    "                                    tf.keras.layers.Conv2D(64,(3,3),activation='relu'),\n",
    "                                    tf.keras.layers.MaxPool2D(2,2),\n",
    "                                    ##\n",
    "                                    tf.keras.layers.Flatten(),\n",
    "                                    ##\n",
    "                                    tf.keras.layers.Dense(512,activation='sigmoid'),\n",
    "                                    ##\n",
    "                                    tf.keras.layers.Dense(1,activation='sigmoid')])\n",
    "\n"
   ]
  },
  {
   "cell_type": "code",
   "execution_count": 5,
   "metadata": {},
   "outputs": [],
   "source": [
    "\n",
    "opt = tf.keras.optimizers.RMSprop(learning_rate=0.01)\n",
    "model.compile(loss='binary_crossentropy',\n",
    "              optimizer= tf.keras.optimizers.RMSprop(learning_rate=0.01),\n",
    "              metrics=['accuracy'] )     \n",
    "\n",
    "\n"
   ]
  },
  {
   "cell_type": "code",
   "execution_count": null,
   "metadata": {},
   "outputs": [
    {
     "name": "stdout",
     "output_type": "stream",
     "text": [
      "Epoch 1/20\n",
      "10/10 [==============================] - 48s 5s/step - loss: 2.0545 - accuracy: 0.6000\n",
      "Epoch 2/20\n",
      "10/10 [==============================] - 38s 4s/step - loss: 0.8279 - accuracy: 0.5333\n",
      "Epoch 3/20\n",
      "10/10 [==============================] - 41s 4s/step - loss: 0.7913 - accuracy: 0.5000\n",
      "Epoch 4/20\n",
      "10/10 [==============================] - 38s 4s/step - loss: 0.7894 - accuracy: 0.5000\n",
      "Epoch 5/20\n",
      "10/10 [==============================] - 39s 4s/step - loss: 0.7893 - accuracy: 0.5000\n",
      "Epoch 6/20\n",
      "10/10 [==============================] - 39s 4s/step - loss: 0.7893 - accuracy: 0.5000\n",
      "Epoch 7/20\n",
      "10/10 [==============================] - 40s 4s/step - loss: 0.7893 - accuracy: 0.5000\n",
      "Epoch 8/20\n",
      "10/10 [==============================] - 39s 4s/step - loss: 0.7893 - accuracy: 0.5000\n",
      "Epoch 9/20\n",
      "10/10 [==============================] - 40s 4s/step - loss: 0.7893 - accuracy: 0.5000\n",
      "Epoch 10/20\n",
      "10/10 [==============================] - 41s 4s/step - loss: 0.7893 - accuracy: 0.5000\n",
      "Epoch 11/20\n",
      "10/10 [==============================] - 61s 6s/step - loss: 0.7893 - accuracy: 0.5000\n",
      "Epoch 12/20\n",
      " 3/10 [========>.....................] - ETA: 31s - loss: 0.8040 - accuracy: 0.5556"
     ]
    }
   ],
   "source": [
    "\n",
    "model_fit = model.fit(train_dataset,\n",
    "            steps_per_epoch =10 ,\n",
    "            epochs = 20,\n",
    "            validation_data = validation_generator,\n",
    "            validation_steps = 8\n",
    "            )\n",
    "\n",
    "print(model_fit)           \n",
    "\n"
   ]
  },
  {
   "cell_type": "code",
   "execution_count": null,
   "metadata": {},
   "outputs": [],
   "source": [
    "dir_path = 'testImages'\n",
    "\n",
    "for i in os.listdir(dir_path):\n",
    "    img = image.load_img(dir_path + '//' + i, target_size=(200,200,3)  )\n",
    "    plt.imshow(img)\n",
    "    plt.show()\n",
    "\n",
    "\n",
    "    X = image.img_to_array(img)\n",
    "    X = np.expand_dims(X,axis =0)\n",
    "    images = np.vstack([X])\n",
    "    val = model.predict(images)\n",
    "    print(val)\n",
    "    # if val == 0:\n",
    "    #     print('AnnualCrop')\n",
    "    # elif val == 1:\n",
    "    #     print(\"Forest\")\n",
    "    # elif val == 2:\n",
    "    #     print(\"HerbaceousVegetation\")\n",
    "    # elif val == 3:\n",
    "    #     print(\"Highway\")\n",
    "    # elif val == 4:\n",
    "    #     print(\"Industrial\")\n",
    "    # elif val == 5:\n",
    "    #     print(\"Pasture\")\n",
    "    # elif val == 6:\n",
    "    #     print(\"PermanentCrop\")\n",
    "    # elif val == 7:\n",
    "    #     print(\"Residential\")  \n",
    "    # elif val == 8:\n",
    "    #     print(\"River\")\n",
    "    # else:\n",
    "    #     print(\"SeaLake\")                              \n",
    "\n",
    "\n"
   ]
  }
 ],
 "metadata": {
  "interpreter": {
   "hash": "90743e24dc6c1b921911883eae6687988727385d5f4ef9c75f3f98dc37bd632e"
  },
  "kernelspec": {
   "display_name": "Python 3 (ipykernel)",
   "language": "python",
   "name": "python3"
  },
  "language_info": {
   "codemirror_mode": {
    "name": "ipython",
    "version": 3
   },
   "file_extension": ".py",
   "mimetype": "text/x-python",
   "name": "python",
   "nbconvert_exporter": "python",
   "pygments_lexer": "ipython3",
   "version": "3.9.7"
  }
 },
 "nbformat": 4,
 "nbformat_minor": 4
}
